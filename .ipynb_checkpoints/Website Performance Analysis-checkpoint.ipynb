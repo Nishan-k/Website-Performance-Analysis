{
 "cells": [
  {
   "cell_type": "markdown",
<<<<<<< Updated upstream
   "id": "c6112acc",
=======
   "id": "b077ce40",
>>>>>>> Stashed changes
   "metadata": {},
   "source": [
    "## 1. Importing the libraries:"
   ]
  },
  {
   "cell_type": "code",
<<<<<<< Updated upstream
   "execution_count": null,
   "id": "f4ecf758",
   "metadata": {},
   "outputs": [],
   "source": []
=======
   "execution_count": 5,
   "id": "97b04d33",
   "metadata": {},
   "outputs": [],
   "source": [
    "import pandas as pd\n",
    "import numpy as np\n",
    "import matplotlib.pyplot as plt\n",
    "\n",
    "%matplotlib inline"
   ]
  },
  {
   "cell_type": "markdown",
   "id": "87158bff",
   "metadata": {},
   "source": [
    "## 2. Importing the data:"
   ]
  },
  {
   "cell_type": "code",
   "execution_count": 9,
   "id": "e1df96e1",
   "metadata": {},
   "outputs": [
    {
     "data": {
      "text/html": [
       "<div>\n",
       "<style scoped>\n",
       "    .dataframe tbody tr th:only-of-type {\n",
       "        vertical-align: middle;\n",
       "    }\n",
       "\n",
       "    .dataframe tbody tr th {\n",
       "        vertical-align: top;\n",
       "    }\n",
       "\n",
       "    .dataframe thead th {\n",
       "        text-align: right;\n",
       "    }\n",
       "</style>\n",
       "<table border=\"1\" class=\"dataframe\">\n",
       "  <thead>\n",
       "    <tr style=\"text-align: right;\">\n",
       "      <th></th>\n",
       "      <th>Session primary channel group (Default channel group)</th>\n",
       "      <th>Date + hour (YYYYMMDDHH)</th>\n",
       "      <th>Users</th>\n",
       "      <th>Sessions</th>\n",
       "      <th>Engaged sessions</th>\n",
       "      <th>Average engagement time per session</th>\n",
       "      <th>Engaged sessions per user</th>\n",
       "      <th>Events per session</th>\n",
       "      <th>Engagement rate</th>\n",
       "      <th>Event count</th>\n",
       "    </tr>\n",
       "  </thead>\n",
       "  <tbody>\n",
       "    <tr>\n",
       "      <th>0</th>\n",
       "      <td>Direct</td>\n",
       "      <td>2024041623</td>\n",
       "      <td>237</td>\n",
       "      <td>300</td>\n",
       "      <td>144</td>\n",
       "      <td>47.526667</td>\n",
       "      <td>0.607595</td>\n",
       "      <td>4.673333</td>\n",
       "      <td>0.480000</td>\n",
       "      <td>1402</td>\n",
       "    </tr>\n",
       "    <tr>\n",
       "      <th>1</th>\n",
       "      <td>Organic Social</td>\n",
       "      <td>2024041719</td>\n",
       "      <td>208</td>\n",
       "      <td>267</td>\n",
       "      <td>132</td>\n",
       "      <td>32.097378</td>\n",
       "      <td>0.634615</td>\n",
       "      <td>4.295880</td>\n",
       "      <td>0.494382</td>\n",
       "      <td>1147</td>\n",
       "    </tr>\n",
       "  </tbody>\n",
       "</table>\n",
       "</div>"
      ],
      "text/plain": [
       "  Session primary channel group (Default channel group)  \\\n",
       "0                                             Direct      \n",
       "1                                     Organic Social      \n",
       "\n",
       "   Date + hour (YYYYMMDDHH)  Users  Sessions  Engaged sessions  \\\n",
       "0                2024041623    237       300               144   \n",
       "1                2024041719    208       267               132   \n",
       "\n",
       "   Average engagement time per session  Engaged sessions per user  \\\n",
       "0                            47.526667                   0.607595   \n",
       "1                            32.097378                   0.634615   \n",
       "\n",
       "   Events per session  Engagement rate  Event count  \n",
       "0            4.673333         0.480000         1402  \n",
       "1            4.295880         0.494382         1147  "
      ]
     },
     "execution_count": 9,
     "metadata": {},
     "output_type": "execute_result"
    }
   ],
   "source": [
    "data = pd.read_csv(\"data-export.csv\", header=1)\n",
    "data.head(2)"
   ]
>>>>>>> Stashed changes
  },
  {
   "cell_type": "code",
   "execution_count": null,
<<<<<<< Updated upstream
   "id": "887e623a",
=======
   "id": "9f3e47fc",
>>>>>>> Stashed changes
   "metadata": {},
   "outputs": [],
   "source": []
  }
 ],
 "metadata": {
  "kernelspec": {
   "display_name": "Python 3 (ipykernel)",
   "language": "python",
   "name": "python3"
  },
  "language_info": {
   "codemirror_mode": {
    "name": "ipython",
    "version": 3
   },
   "file_extension": ".py",
   "mimetype": "text/x-python",
   "name": "python",
   "nbconvert_exporter": "python",
   "pygments_lexer": "ipython3",
   "version": "3.10.4"
  }
 },
 "nbformat": 4,
 "nbformat_minor": 5
}
