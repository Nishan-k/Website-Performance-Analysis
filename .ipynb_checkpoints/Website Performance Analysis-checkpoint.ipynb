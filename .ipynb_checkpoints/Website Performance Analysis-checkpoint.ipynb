{
 "cells": [
  {
   "cell_type": "markdown",
   "id": "f367790e",
   "metadata": {},
   "source": [
    "## 1. Import the libraries:"
   ]
  },
  {
   "cell_type": "code",
   "execution_count": 3,
   "id": "d8825a66",
   "metadata": {},
   "outputs": [],
   "source": [
    "import pandas as pd\n",
    "import numpy as np\n",
    "import matplotlib.pyplot as plt\n",
    "import seaborn as sns\n",
    "\n",
    "%matplotlib inline"
   ]
  },
  {
   "cell_type": "markdown",
   "id": "c1e0a1f1",
   "metadata": {},
   "source": [
    "## 2. Load the dataset:"
   ]
  },
  {
   "cell_type": "code",
   "execution_count": 5,
   "id": "3e4a3f06",
   "metadata": {},
   "outputs": [
    {
     "data": {
      "text/html": [
       "<div>\n",
       "<style scoped>\n",
       "    .dataframe tbody tr th:only-of-type {\n",
       "        vertical-align: middle;\n",
       "    }\n",
       "\n",
       "    .dataframe tbody tr th {\n",
       "        vertical-align: top;\n",
       "    }\n",
       "\n",
       "    .dataframe thead th {\n",
       "        text-align: right;\n",
       "    }\n",
       "</style>\n",
       "<table border=\"1\" class=\"dataframe\">\n",
       "  <thead>\n",
       "    <tr style=\"text-align: right;\">\n",
       "      <th></th>\n",
       "      <th>Session primary channel group (Default channel group)</th>\n",
       "      <th>Date + hour (YYYYMMDDHH)</th>\n",
       "      <th>Users</th>\n",
       "      <th>Sessions</th>\n",
       "      <th>Engaged sessions</th>\n",
       "      <th>Average engagement time per session</th>\n",
       "      <th>Engaged sessions per user</th>\n",
       "      <th>Events per session</th>\n",
       "      <th>Engagement rate</th>\n",
       "      <th>Event count</th>\n",
       "    </tr>\n",
       "  </thead>\n",
       "  <tbody>\n",
       "    <tr>\n",
       "      <th>0</th>\n",
       "      <td>Direct</td>\n",
       "      <td>2024041623</td>\n",
       "      <td>237</td>\n",
       "      <td>300</td>\n",
       "      <td>144</td>\n",
       "      <td>47.526667</td>\n",
       "      <td>0.607595</td>\n",
       "      <td>4.673333</td>\n",
       "      <td>0.480000</td>\n",
       "      <td>1402</td>\n",
       "    </tr>\n",
       "    <tr>\n",
       "      <th>1</th>\n",
       "      <td>Organic Social</td>\n",
       "      <td>2024041719</td>\n",
       "      <td>208</td>\n",
       "      <td>267</td>\n",
       "      <td>132</td>\n",
       "      <td>32.097378</td>\n",
       "      <td>0.634615</td>\n",
       "      <td>4.295880</td>\n",
       "      <td>0.494382</td>\n",
       "      <td>1147</td>\n",
       "    </tr>\n",
       "  </tbody>\n",
       "</table>\n",
       "</div>"
      ],
      "text/plain": [
       "  Session primary channel group (Default channel group)  \\\n",
       "0                                             Direct      \n",
       "1                                     Organic Social      \n",
       "\n",
       "   Date + hour (YYYYMMDDHH)  Users  Sessions  Engaged sessions  \\\n",
       "0                2024041623    237       300               144   \n",
       "1                2024041719    208       267               132   \n",
       "\n",
       "   Average engagement time per session  Engaged sessions per user  \\\n",
       "0                            47.526667                   0.607595   \n",
       "1                            32.097378                   0.634615   \n",
       "\n",
       "   Events per session  Engagement rate  Event count  \n",
       "0            4.673333         0.480000         1402  \n",
       "1            4.295880         0.494382         1147  "
      ]
     },
     "execution_count": 5,
     "metadata": {},
     "output_type": "execute_result"
    }
   ],
   "source": [
    "data = pd.read_csv(\"data-export.csv\", header=1)\n",
    "data.head(2)"
   ]
  },
  {
   "cell_type": "markdown",
   "id": "1e90baa4",
   "metadata": {},
   "source": [
    "## 3. EDA:"
   ]
  },
  {
   "cell_type": "markdown",
   "id": "b8ec9ae1",
   "metadata": {},
   "source": [
    "#### 3.1 Shape of the data:"
   ]
  },
  {
   "cell_type": "code",
   "execution_count": 11,
   "id": "e6c3cdc7",
   "metadata": {},
   "outputs": [
    {
     "name": "stdout",
     "output_type": "stream",
     "text": [
      "In total there are 3182 rows and 10 columns.\n"
     ]
    }
   ],
   "source": [
    "print(f\"In total there are {data.shape[0]} rows and {data.shape[1]} columns.\")"
   ]
  },
  {
   "cell_type": "code",
   "execution_count": 23,
   "id": "ec1a9a79",
   "metadata": {},
   "outputs": [
    {
     "name": "stdout",
     "output_type": "stream",
     "text": [
      "The columns are: \n",
      "\n",
      "1.Session primary channel group (Default channel group)\n",
      "2.Date + hour (YYYYMMDDHH)\n",
      "3.Users\n",
      "4.Sessions\n",
      "5.Engaged sessions\n",
      "6.Average engagement time per session\n",
      "7.Engaged sessions per user\n",
      "8.Events per session\n",
      "9.Engagement rate\n",
      "10.Event count\n"
     ]
    }
   ],
   "source": [
    "print(f\"The columns are: \\n\")\n",
    "\n",
    "for i, col in enumerate(data.columns):\n",
    "    print(f\"{i+1}.{col}\")"
   ]
  },
  {
   "cell_type": "markdown",
   "id": "652b7a27",
   "metadata": {},
   "source": [
    "#### 3.2 Data types:"
   ]
  },
  {
   "cell_type": "code",
   "execution_count": 27,
   "id": "6c938bb8",
   "metadata": {},
   "outputs": [
    {
     "name": "stdout",
     "output_type": "stream",
     "text": [
      "<class 'pandas.core.frame.DataFrame'>\n",
      "RangeIndex: 3182 entries, 0 to 3181\n",
      "Data columns (total 10 columns):\n",
      " #   Column                                                 Non-Null Count  Dtype  \n",
      "---  ------                                                 --------------  -----  \n",
      " 0   Session primary channel group (Default channel group)  3182 non-null   object \n",
      " 1   Date + hour (YYYYMMDDHH)                               3182 non-null   int64  \n",
      " 2   Users                                                  3182 non-null   int64  \n",
      " 3   Sessions                                               3182 non-null   int64  \n",
      " 4   Engaged sessions                                       3182 non-null   int64  \n",
      " 5   Average engagement time per session                    3182 non-null   float64\n",
      " 6   Engaged sessions per user                              3182 non-null   float64\n",
      " 7   Events per session                                     3182 non-null   float64\n",
      " 8   Engagement rate                                        3182 non-null   float64\n",
      " 9   Event count                                            3182 non-null   int64  \n",
      "dtypes: float64(4), int64(5), object(1)\n",
      "memory usage: 248.7+ KB\n"
     ]
    }
   ],
   "source": [
    "data.info()"
   ]
  },
  {
   "cell_type": "markdown",
   "id": "25498efd",
   "metadata": {},
   "source": [
    "The **Date + hour (YYYYMMDDHH)** column is in int64 format and is concatenated as an integer we need it in an appropriate data format, so lets change it:"
   ]
  },
  {
   "cell_type": "code",
   "execution_count": 28,
   "id": "05c9814d",
   "metadata": {},
   "outputs": [
    {
     "data": {
      "text/html": [
       "<div>\n",
       "<style scoped>\n",
       "    .dataframe tbody tr th:only-of-type {\n",
       "        vertical-align: middle;\n",
       "    }\n",
       "\n",
       "    .dataframe tbody tr th {\n",
       "        vertical-align: top;\n",
       "    }\n",
       "\n",
       "    .dataframe thead th {\n",
       "        text-align: right;\n",
       "    }\n",
       "</style>\n",
       "<table border=\"1\" class=\"dataframe\">\n",
       "  <thead>\n",
       "    <tr style=\"text-align: right;\">\n",
       "      <th></th>\n",
       "      <th>Session primary channel group (Default channel group)</th>\n",
       "      <th>Date + hour (YYYYMMDDHH)</th>\n",
       "      <th>Users</th>\n",
       "      <th>Sessions</th>\n",
       "      <th>Engaged sessions</th>\n",
       "      <th>Average engagement time per session</th>\n",
       "      <th>Engaged sessions per user</th>\n",
       "      <th>Events per session</th>\n",
       "      <th>Engagement rate</th>\n",
       "      <th>Event count</th>\n",
       "    </tr>\n",
       "  </thead>\n",
       "  <tbody>\n",
       "    <tr>\n",
       "      <th>0</th>\n",
       "      <td>Direct</td>\n",
       "      <td>2024041623</td>\n",
       "      <td>237</td>\n",
       "      <td>300</td>\n",
       "      <td>144</td>\n",
       "      <td>47.526667</td>\n",
       "      <td>0.607595</td>\n",
       "      <td>4.673333</td>\n",
       "      <td>0.48</td>\n",
       "      <td>1402</td>\n",
       "    </tr>\n",
       "  </tbody>\n",
       "</table>\n",
       "</div>"
      ],
      "text/plain": [
       "  Session primary channel group (Default channel group)  \\\n",
       "0                                             Direct      \n",
       "\n",
       "   Date + hour (YYYYMMDDHH)  Users  Sessions  Engaged sessions  \\\n",
       "0                2024041623    237       300               144   \n",
       "\n",
       "   Average engagement time per session  Engaged sessions per user  \\\n",
       "0                            47.526667                   0.607595   \n",
       "\n",
       "   Events per session  Engagement rate  Event count  \n",
       "0            4.673333             0.48         1402  "
      ]
     },
     "execution_count": 28,
     "metadata": {},
     "output_type": "execute_result"
    }
   ],
   "source": [
    "data.head(1)"
   ]
  },
  {
   "cell_type": "code",
   "execution_count": 29,
   "id": "46d7caa2",
   "metadata": {},
   "outputs": [],
   "source": [
    "data['Date + hour (YYYYMMDDHH)'] = pd.to_datetime(data['Date + hour (YYYYMMDDHH)'], format='%Y%m%d%H')"
   ]
  },
  {
   "cell_type": "code",
   "execution_count": 30,
   "id": "0a38c75d",
   "metadata": {},
   "outputs": [
    {
     "data": {
      "text/html": [
       "<div>\n",
       "<style scoped>\n",
       "    .dataframe tbody tr th:only-of-type {\n",
       "        vertical-align: middle;\n",
       "    }\n",
       "\n",
       "    .dataframe tbody tr th {\n",
       "        vertical-align: top;\n",
       "    }\n",
       "\n",
       "    .dataframe thead th {\n",
       "        text-align: right;\n",
       "    }\n",
       "</style>\n",
       "<table border=\"1\" class=\"dataframe\">\n",
       "  <thead>\n",
       "    <tr style=\"text-align: right;\">\n",
       "      <th></th>\n",
       "      <th>Session primary channel group (Default channel group)</th>\n",
       "      <th>Date + hour (YYYYMMDDHH)</th>\n",
       "      <th>Users</th>\n",
       "      <th>Sessions</th>\n",
       "      <th>Engaged sessions</th>\n",
       "      <th>Average engagement time per session</th>\n",
       "      <th>Engaged sessions per user</th>\n",
       "      <th>Events per session</th>\n",
       "      <th>Engagement rate</th>\n",
       "      <th>Event count</th>\n",
       "    </tr>\n",
       "  </thead>\n",
       "  <tbody>\n",
       "    <tr>\n",
       "      <th>0</th>\n",
       "      <td>Direct</td>\n",
       "      <td>2024-04-16 23:00:00</td>\n",
       "      <td>237</td>\n",
       "      <td>300</td>\n",
       "      <td>144</td>\n",
       "      <td>47.526667</td>\n",
       "      <td>0.607595</td>\n",
       "      <td>4.673333</td>\n",
       "      <td>0.48</td>\n",
       "      <td>1402</td>\n",
       "    </tr>\n",
       "  </tbody>\n",
       "</table>\n",
       "</div>"
      ],
      "text/plain": [
       "  Session primary channel group (Default channel group)  \\\n",
       "0                                             Direct      \n",
       "\n",
       "  Date + hour (YYYYMMDDHH)  Users  Sessions  Engaged sessions  \\\n",
       "0      2024-04-16 23:00:00    237       300               144   \n",
       "\n",
       "   Average engagement time per session  Engaged sessions per user  \\\n",
       "0                            47.526667                   0.607595   \n",
       "\n",
       "   Events per session  Engagement rate  Event count  \n",
       "0            4.673333             0.48         1402  "
      ]
     },
     "execution_count": 30,
     "metadata": {},
     "output_type": "execute_result"
    }
   ],
   "source": [
    "data.head(1)"
   ]
  },
  {
   "cell_type": "markdown",
   "id": "a09d440b",
   "metadata": {},
   "source": [
    "#### 3.3 Check for any NULL Values:"
   ]
  },
  {
   "cell_type": "code",
   "execution_count": 34,
   "id": "d6ba0f1d",
   "metadata": {},
   "outputs": [
    {
     "data": {
      "text/plain": [
       "Session primary channel group (Default channel group)    0\n",
       "Date + hour (YYYYMMDDHH)                                 0\n",
       "Users                                                    0\n",
       "Sessions                                                 0\n",
       "Engaged sessions                                         0\n",
       "Average engagement time per session                      0\n",
       "Engaged sessions per user                                0\n",
       "Events per session                                       0\n",
       "Engagement rate                                          0\n",
       "Event count                                              0\n",
       "dtype: int64"
      ]
     },
     "execution_count": 34,
     "metadata": {},
     "output_type": "execute_result"
    }
   ],
   "source": [
    "data.isna().sum()"
   ]
  },
  {
   "cell_type": "markdown",
   "id": "445cf844",
   "metadata": {},
   "source": [
    "We don't have any missing data."
   ]
  },
  {
   "cell_type": "markdown",
   "id": "07959c11",
   "metadata": {},
   "source": [
    "## 4. Analysis:"
   ]
  },
  {
   "cell_type": "markdown",
   "id": "fdc6f3a3",
   "metadata": {},
   "source": [
    "#### 4.1 Grouped data based on the date for sessions:"
   ]
  },
  {
   "cell_type": "markdown",
   "id": "6e3830c7",
   "metadata": {},
   "source": [
    "When dates are involved like in this case, we need to group it as below so that we can see how the number of users\n",
    "and sessions changes on different period of time, such analysis belong to a time-series analysis."
   ]
  },
  {
   "cell_type": "code",
   "execution_count": 38,
   "id": "715f7693",
   "metadata": {},
   "outputs": [],
   "source": [
    "grouped_data_per_date = data.groupby(data['Date + hour (YYYYMMDDHH)']).agg({'Users':'sum', 'Sessions':'sum'})"
   ]
  },
  {
   "cell_type": "code",
   "execution_count": 40,
   "id": "1ee0d71d",
   "metadata": {},
   "outputs": [
    {
     "data": {
      "text/html": [
       "<div>\n",
       "<style scoped>\n",
       "    .dataframe tbody tr th:only-of-type {\n",
       "        vertical-align: middle;\n",
       "    }\n",
       "\n",
       "    .dataframe tbody tr th {\n",
       "        vertical-align: top;\n",
       "    }\n",
       "\n",
       "    .dataframe thead th {\n",
       "        text-align: right;\n",
       "    }\n",
       "</style>\n",
       "<table border=\"1\" class=\"dataframe\">\n",
       "  <thead>\n",
       "    <tr style=\"text-align: right;\">\n",
       "      <th></th>\n",
       "      <th>Users</th>\n",
       "      <th>Sessions</th>\n",
       "    </tr>\n",
       "    <tr>\n",
       "      <th>Date + hour (YYYYMMDDHH)</th>\n",
       "      <th></th>\n",
       "      <th></th>\n",
       "    </tr>\n",
       "  </thead>\n",
       "  <tbody>\n",
       "    <tr>\n",
       "      <th>2024-04-06 00:00:00</th>\n",
       "      <td>197</td>\n",
       "      <td>270</td>\n",
       "    </tr>\n",
       "    <tr>\n",
       "      <th>2024-04-06 01:00:00</th>\n",
       "      <td>107</td>\n",
       "      <td>142</td>\n",
       "    </tr>\n",
       "  </tbody>\n",
       "</table>\n",
       "</div>"
      ],
      "text/plain": [
       "                          Users  Sessions\n",
       "Date + hour (YYYYMMDDHH)                 \n",
       "2024-04-06 00:00:00         197       270\n",
       "2024-04-06 01:00:00         107       142"
      ]
     },
     "execution_count": 40,
     "metadata": {},
     "output_type": "execute_result"
    }
   ],
   "source": [
    "grouped_data_per_date.head(2)"
   ]
  },
  {
   "cell_type": "markdown",
   "id": "c98425ae",
   "metadata": {},
   "source": [
    "#### 4.2 Total users and sessions over time:"
   ]
  },
  {
   "cell_type": "code",
   "execution_count": 47,
   "id": "5f9b9291",
   "metadata": {},
   "outputs": [
    {
     "data": {
      "image/png": "[encoded data removed]",
      "text/plain": [
       "<Figure size 1152x432 with 1 Axes>"
      ]
     },
     "metadata": {
      "needs_background": "light"
     },
     "output_type": "display_data"
    }
   ],
   "source": [
    "plt.figure(figsize=(16, 6))\n",
    "\n",
    "plt.plot(grouped_data_per_date.index, grouped_data_per_date.Users, label='Users', color='blue')\n",
    "plt.plot(grouped_data_per_date.index, grouped_data_per_date.Sessions, label='Sessions', color='green')\n",
    "plt.xlabel(\"Date and Hour\", fontsize=13)\n",
    "plt.ylabel(\"Count\", fontsize=13)\n",
    "plt.title(\"Tota Users and Session Over the Time\")\n",
    "plt.legend()\n",
    "plt.grid(True)\n",
    "plt.show()"
   ]
  },
  {
   "cell_type": "markdown",
   "id": "7230f2eb",
   "metadata": {},
   "source": [
    "This chart represents the overall trend of the users (the unique counts) and the sessions (total number of visits) througout\n",
    "different time interval. Both of them seems to follow a regular pattern while some peaks on the sessions can be seen \n",
    "on some specific time period."
   ]
  },
  {
   "cell_type": "markdown",
   "id": "f51cccba",
   "metadata": {},
   "source": [
    "#### 4.3 User Engagement Analysis:"
   ]
  },
  {
   "cell_type": "code",
   "execution_count": 50,
   "id": "a6786eec",
   "metadata": {},
   "outputs": [
    {
     "data": {
      "text/html": [
       "<div>\n",
       "<style scoped>\n",
       "    .dataframe tbody tr th:only-of-type {\n",
       "        vertical-align: middle;\n",
       "    }\n",
       "\n",
       "    .dataframe tbody tr th {\n",
       "        vertical-align: top;\n",
       "    }\n",
       "\n",
       "    .dataframe thead th {\n",
       "        text-align: right;\n",
       "    }\n",
       "</style>\n",
       "<table border=\"1\" class=\"dataframe\">\n",
       "  <thead>\n",
       "    <tr style=\"text-align: right;\">\n",
       "      <th></th>\n",
       "      <th>Session primary channel group (Default channel group)</th>\n",
       "      <th>Date + hour (YYYYMMDDHH)</th>\n",
       "      <th>Users</th>\n",
       "      <th>Sessions</th>\n",
       "      <th>Engaged sessions</th>\n",
       "      <th>Average engagement time per session</th>\n",
       "      <th>Engaged sessions per user</th>\n",
       "      <th>Events per session</th>\n",
       "      <th>Engagement rate</th>\n",
       "      <th>Event count</th>\n",
       "    </tr>\n",
       "  </thead>\n",
       "  <tbody>\n",
       "    <tr>\n",
       "      <th>0</th>\n",
       "      <td>Direct</td>\n",
       "      <td>2024-04-16 23:00:00</td>\n",
       "      <td>237</td>\n",
       "      <td>300</td>\n",
       "      <td>144</td>\n",
       "      <td>47.526667</td>\n",
       "      <td>0.607595</td>\n",
       "      <td>4.673333</td>\n",
       "      <td>0.48</td>\n",
       "      <td>1402</td>\n",
       "    </tr>\n",
       "  </tbody>\n",
       "</table>\n",
       "</div>"
      ],
      "text/plain": [
       "  Session primary channel group (Default channel group)  \\\n",
       "0                                             Direct      \n",
       "\n",
       "  Date + hour (YYYYMMDDHH)  Users  Sessions  Engaged sessions  \\\n",
       "0      2024-04-16 23:00:00    237       300               144   \n",
       "\n",
       "   Average engagement time per session  Engaged sessions per user  \\\n",
       "0                            47.526667                   0.607595   \n",
       "\n",
       "   Events per session  Engagement rate  Event count  \n",
       "0            4.673333             0.48         1402  "
      ]
     },
     "execution_count": 50,
     "metadata": {},
     "output_type": "execute_result"
    }
   ],
   "source": [
    "data.head(1)"
   ]
  },
  {
   "cell_type": "code",
   "execution_count": 53,
   "id": "6b3f83a3",
   "metadata": {},
   "outputs": [
    {
     "data": {
      "text/html": [
       "<div>\n",
       "<style scoped>\n",
       "    .dataframe tbody tr th:only-of-type {\n",
       "        vertical-align: middle;\n",
       "    }\n",
       "\n",
       "    .dataframe tbody tr th {\n",
       "        vertical-align: top;\n",
       "    }\n",
       "\n",
       "    .dataframe thead th {\n",
       "        text-align: right;\n",
       "    }\n",
       "</style>\n",
       "<table border=\"1\" class=\"dataframe\">\n",
       "  <thead>\n",
       "    <tr style=\"text-align: right;\">\n",
       "      <th></th>\n",
       "      <th>Engaged sessions</th>\n",
       "      <th>Average engagement time per session</th>\n",
       "      <th>Engaged sessions per user</th>\n",
       "      <th>Events per session</th>\n",
       "      <th>Engagement rate</th>\n",
       "    </tr>\n",
       "    <tr>\n",
       "      <th>Date + hour (YYYYMMDDHH)</th>\n",
       "      <th></th>\n",
       "      <th></th>\n",
       "      <th></th>\n",
       "      <th></th>\n",
       "      <th></th>\n",
       "    </tr>\n",
       "  </thead>\n",
       "  <tbody>\n",
       "    <tr>\n",
       "      <th>2024-04-06 00:00:00</th>\n",
       "      <td>29.20</td>\n",
       "      <td>55.070258</td>\n",
       "      <td>0.607673</td>\n",
       "      <td>3.610049</td>\n",
       "      <td>0.450262</td>\n",
       "    </tr>\n",
       "    <tr>\n",
       "      <th>2024-04-06 01:00:00</th>\n",
       "      <td>17.25</td>\n",
       "      <td>49.115957</td>\n",
       "      <td>0.644213</td>\n",
       "      <td>4.719012</td>\n",
       "      <td>0.489905</td>\n",
       "    </tr>\n",
       "  </tbody>\n",
       "</table>\n",
       "</div>"
      ],
      "text/plain": [
       "                          Engaged sessions  \\\n",
       "Date + hour (YYYYMMDDHH)                     \n",
       "2024-04-06 00:00:00                  29.20   \n",
       "2024-04-06 01:00:00                  17.25   \n",
       "\n",
       "                          Average engagement time per session  \\\n",
       "Date + hour (YYYYMMDDHH)                                        \n",
       "2024-04-06 00:00:00                                 55.070258   \n",
       "2024-04-06 01:00:00                                 49.115957   \n",
       "\n",
       "                          Engaged sessions per user  Events per session  \\\n",
       "Date + hour (YYYYMMDDHH)                                                  \n",
       "2024-04-06 00:00:00                        0.607673            3.610049   \n",
       "2024-04-06 01:00:00                        0.644213            4.719012   \n",
       "\n",
       "                          Engagement rate  \n",
       "Date + hour (YYYYMMDDHH)                   \n",
       "2024-04-06 00:00:00              0.450262  \n",
       "2024-04-06 01:00:00              0.489905  "
      ]
     },
     "execution_count": 53,
     "metadata": {},
     "output_type": "execute_result"
    }
   ],
   "source": [
    "engagement_metrics = data.groupby(data['Date + hour (YYYYMMDDHH)']).agg({\n",
    "    'Engaged sessions':'mean',\n",
    "    'Average engagement time per session':'mean',\n",
    "    'Engaged sessions per user':'mean',\n",
    "    'Events per session':'mean',\n",
    "    'Engagement rate':'mean'\n",
    "})\n",
    "\n",
    "engagement_metrics.head(2)"
   ]
  },
  {
   "cell_type": "code",
   "execution_count": null,
   "id": "c9ee5bd8",
   "metadata": {},
   "outputs": [],
   "source": []
  },
  {
   "cell_type": "code",
   "execution_count": null,
   "id": "42b6c0e6",
   "metadata": {},
   "outputs": [],
   "source": []
  }
 ],
 "metadata": {
  "kernelspec": {
   "display_name": "Python 3 (ipykernel)",
   "language": "python",
   "name": "python3"
  },
  "language_info": {
   "codemirror_mode": {
    "name": "ipython",
    "version": 3
   },
   "file_extension": ".py",
   "mimetype": "text/x-python",
   "name": "python",
   "nbconvert_exporter": "python",
   "pygments_lexer": "ipython3",
   "version": "3.10.4"
  }
 },
 "nbformat": 4,
 "nbformat_minor": 5
}
